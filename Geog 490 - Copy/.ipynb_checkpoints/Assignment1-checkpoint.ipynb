{
 "cells": [
  {
   "cell_type": "code",
   "execution_count": 3,
   "id": "69fe3221-4ba5-4e55-b96b-57ea5f5be890",
   "metadata": {},
   "outputs": [],
   "source": [
    "import numpy as np"
   ]
  },
  {
   "cell_type": "code",
   "execution_count": 5,
   "id": "6465f812-f2df-4033-a806-ef390011d338",
   "metadata": {},
   "outputs": [
    {
     "name": "stdout",
     "output_type": "stream",
     "text": [
      "90\n"
     ]
    }
   ],
   "source": [
    "product = 9 * 10\n",
    "print(product)"
   ]
  },
  {
   "cell_type": "code",
   "execution_count": 6,
   "id": "41d28687-98a8-4d19-8c9c-5b381d5f1d80",
   "metadata": {},
   "outputs": [
    {
     "name": "stdout",
     "output_type": "stream",
     "text": [
      "19\n"
     ]
    }
   ],
   "source": [
    "sum = 9 + 10\n",
    "print(sum)"
   ]
  },
  {
   "cell_type": "code",
   "execution_count": 8,
   "id": "c137bd88-f251-46c1-b4e2-b1ea0684b5a9",
   "metadata": {},
   "outputs": [
    {
     "name": "stdout",
     "output_type": "stream",
     "text": [
      "-1\n"
     ]
    }
   ],
   "source": [
    "difference = 9 - 10\n",
    "print(difference)"
   ]
  },
  {
   "cell_type": "markdown",
   "id": "414295a1-f7af-4171-93f6-bffe26b5bef4",
   "metadata": {},
   "source": [
    "This Cell is in **Markdown**\n",
    "\n",
    "And here is an *awesome picture*\n",
    "\n",
    "![# Assignment One ## Jett Rugebregt ### 3/30/24](https://images3.alphacoders.com/810/thumb-1920-81097.jpg)"
   ]
  },
  {
   "cell_type": "markdown",
   "id": "b642ac8e-c114-4ab1-899f-485a7b4240ad",
   "metadata": {},
   "source": [
    "Github Username - JettR2"
   ]
  }
 ],
 "metadata": {
  "kernelspec": {
   "display_name": "Python 3 (ipykernel)",
   "language": "python",
   "name": "python3"
  },
  "language_info": {
   "codemirror_mode": {
    "name": "ipython",
    "version": 3
   },
   "file_extension": ".py",
   "mimetype": "text/x-python",
   "name": "python",
   "nbconvert_exporter": "python",
   "pygments_lexer": "ipython3",
   "version": "3.11.7"
  }
 },
 "nbformat": 4,
 "nbformat_minor": 5
}
