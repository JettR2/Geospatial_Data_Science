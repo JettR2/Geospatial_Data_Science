{
 "cells": [
  {
   "cell_type": "code",
   "execution_count": 8,
   "id": "69fe3221-4ba5-4e55-b96b-57ea5f5be890",
   "metadata": {},
   "outputs": [],
   "source": [
    "# Import package numpy\n",
    "import numpy as np"
   ]
  },
  {
   "cell_type": "code",
   "execution_count": 9,
   "id": "6f645b3a-090c-4408-8844-4ae727aa044e",
   "metadata": {},
   "outputs": [],
   "source": [
    "# Define any two numbers to operate on\n",
    "a = 9\n",
    "b = 10"
   ]
  },
  {
   "cell_type": "code",
   "execution_count": 10,
   "id": "6465f812-f2df-4033-a806-ef390011d338",
   "metadata": {},
   "outputs": [
    {
     "name": "stdout",
     "output_type": "stream",
     "text": [
      "The product of a and b is 90\n"
     ]
    }
   ],
   "source": [
    "product = np.multiply(a,b)\n",
    "print('The product of a and b is ' + str(product))"
   ]
  },
  {
   "cell_type": "code",
   "execution_count": 11,
   "id": "41d28687-98a8-4d19-8c9c-5b381d5f1d80",
   "metadata": {},
   "outputs": [
    {
     "name": "stdout",
     "output_type": "stream",
     "text": [
      "The sum of a and b is 19\n"
     ]
    }
   ],
   "source": [
    "sum = np.add(a,b)\n",
    "print('The sum of a and b is ' + str(sum))"
   ]
  },
  {
   "cell_type": "code",
   "execution_count": 12,
   "id": "c137bd88-f251-46c1-b4e2-b1ea0684b5a9",
   "metadata": {},
   "outputs": [
    {
     "name": "stdout",
     "output_type": "stream",
     "text": [
      "The difference of a and b is -1\n"
     ]
    }
   ],
   "source": [
    "difference = np.subtract(a,b)\n",
    "print('The difference of a and b is ' + str(difference))"
   ]
  },
  {
   "cell_type": "markdown",
   "id": "eae4d4e9-f39a-49a6-b227-f3a487a42249",
   "metadata": {
    "jp-MarkdownHeadingCollapsed": true
   },
   "source": [
    "This Cell is in **Markdown**\n",
    "\n",
    "And here is an *awesome picture*\n",
    "\n",
    "![Mount Denali with a Bear in the foreground](https://images3.alphacoders.com/810/thumb-1920-81097.jpg)\n",
    "\n",
    "# Assignment one\n",
    "## Jett Rugebregt\n",
    "### 3/31/2024"
   ]
  },
  {
   "cell_type": "markdown",
   "id": "b642ac8e-c114-4ab1-899f-485a7b4240ad",
   "metadata": {},
   "source": [
    "# Github Username - JettR2"
   ]
  }
 ],
 "metadata": {
  "kernelspec": {
   "display_name": "Python 3 (ipykernel)",
   "language": "python",
   "name": "python3"
  },
  "language_info": {
   "codemirror_mode": {
    "name": "ipython",
    "version": 3
   },
   "file_extension": ".py",
   "mimetype": "text/x-python",
   "name": "python",
   "nbconvert_exporter": "python",
   "pygments_lexer": "ipython3",
   "version": "3.12.2"
  }
 },
 "nbformat": 4,
 "nbformat_minor": 5
}
