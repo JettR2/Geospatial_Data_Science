{
 "cells": [
  {
   "cell_type": "markdown",
   "id": "aebdf87d-e865-4f4b-ab20-d582f78fe17d",
   "metadata": {},
   "source": [
    "# Activity 1 - Rivers of the World\n",
    "## Jett Rugebregt\n",
    "## 4/4/2024"
   ]
  },
  {
   "cell_type": "code",
   "execution_count": 82,
   "id": "18592c3c-a89e-44b6-ba30-38268e3da816",
   "metadata": {},
   "outputs": [],
   "source": [
    "import pandas as pd\n",
    "import numpy as np"
   ]
  },
  {
   "cell_type": "code",
   "execution_count": 83,
   "id": "64fd2933-206c-441f-a885-42193e864f43",
   "metadata": {
    "scrolled": true
   },
   "outputs": [
    {
     "name": "stdout",
     "output_type": "stream",
     "text": [
      "              River      Continent  Average discharge (m3/s)  Length (km)  \\\n",
      "0            Amazon  South America                    224000         6992   \n",
      "1             Congo         Africa                     41400         4370   \n",
      "2              Nile         Africa                      2810         6853   \n",
      "3       Mississippi  North America                     21300         3766   \n",
      "4   Rio de la Plata  South America                     27225          290   \n",
      "5                Ob           Asia                     13100         4345   \n",
      "6            Parana  South America                     19706         4880   \n",
      "7           Yenisei           Asia                     20200         4090   \n",
      "8              Lena           Asia                     18300         4294   \n",
      "9             Niger         Africa                      7900         4200   \n",
      "10           Ganges           Asia                     43950         3969   \n",
      "11             Amur           Asia                     11526         4444   \n",
      "12          Yangtze           Asia                     31900         6300   \n",
      "13        Mackenzie  North America                      9800         4241   \n",
      "14           Irtysh           Asia                      2980         4248   \n",
      "15            Volga         Europe                      8220         3531   \n",
      "16          Madeira  South America                     30173         3380   \n",
      "17         Missouri  North America                      2445         3767   \n",
      "18   Saint Lawrence  North America                     16800          500   \n",
      "19          Zambezi         Africa                      4217         2574   \n",
      "20           Ganges           Asia                     18691         2525   \n",
      "21         Paraguay  South America                      4696         2621   \n",
      "\n",
      "    Drainage area (km2)                 Outflow             Type  \n",
      "0               6915000          Atlantic Ocean    Primary river  \n",
      "1               3822000          Atlantic Ocean    Primary river  \n",
      "2               3349000       Mediterranean Sea    Primary river  \n",
      "3               3248000          Gulf of Mexico    Primary river  \n",
      "4               3182064          Atlantic Ocean    Primary river  \n",
      "5               2990000              Gulf of Ob    Primary river  \n",
      "6               2582672         Rio de la Plata  Tributary river  \n",
      "7               2580000                Kara Sea    Primary river  \n",
      "8               2490000              Laptev Sea    Primary river  \n",
      "9               2117000          Gulf of Guinea    Primary river  \n",
      "10              1999000           Bay of Bengal    Primary river  \n",
      "11              1855000          Sea of Okhotsk    Primary river  \n",
      "12              1840000          East China Sea    Primary river  \n",
      "13              1805200            Beaufort Sea    Primary river  \n",
      "14              1673470                      Ob  Tributary river  \n",
      "15              1380000             Caspian Sea    Primary river  \n",
      "16              1376000                  Amazon  Tributary river  \n",
      "17              1371010             Mississippi  Tributary river  \n",
      "18              1344200  Gulf of Saint Lawrence    Primary river  \n",
      "19              1331000            Indian Ocean    Primary river  \n",
      "20              1300000           Bay of Bengal    Primary river  \n",
      "21              1120154                  Parana  Tributary river  \n"
     ]
    },
    {
     "data": {
      "text/plain": [
       "pandas.core.frame.DataFrame"
      ]
     },
     "execution_count": 83,
     "metadata": {},
     "output_type": "execute_result"
    }
   ],
   "source": [
    "# read in the csv with pandas\n",
    "file = pd.read_csv(\"C:/Users/jettr/Dropbox (University of Oregon)/23-24/Spring/Geog 490/Activities/1_GlobalRivers/rivers.csv\")\n",
    "\n",
    "# Did it read in the file right? What does it look like?\n",
    "print(file)\n",
    "type(file)"
   ]
  },
  {
   "cell_type": "markdown",
   "id": "1abb045a-3a20-4adc-abea-b4169bdc37f3",
   "metadata": {},
   "source": [
    "# Question 1\n",
    "\n",
    "Number of columns\r\n",
    "\r\n",
    "Number of rows\r\n",
    "\r\n",
    "The maximum Average discharge (m3/s) value\r\n",
    "\r\n",
    "The minimum Drainage area (km2) value\r\n",
    "\r\n",
    "The mean Length (km) value"
   ]
  },
  {
   "cell_type": "markdown",
   "id": "61857663-9f94-4c3f-9b67-121d42f77950",
   "metadata": {},
   "source": [
    "## a. Number of columns"
   ]
  },
  {
   "cell_type": "code",
   "execution_count": 84,
   "id": "564b69e4-4cc3-4527-8173-b5bff44dc0c0",
   "metadata": {},
   "outputs": [
    {
     "name": "stdout",
     "output_type": "stream",
     "text": [
      "The Number of Columns : 7\n"
     ]
    }
   ],
   "source": [
    "# Number of Columns\n",
    "NumCols = file.shape[1]\n",
    "print('The Number of Columns : '+ str(NumCols))"
   ]
  },
  {
   "cell_type": "markdown",
   "id": "7f06d9c8-b291-486c-b098-8671b580b6ee",
   "metadata": {},
   "source": [
    "## b. Number of rows"
   ]
  },
  {
   "cell_type": "code",
   "execution_count": 85,
   "id": "e6f6dfc6-4596-45ee-839f-cc993d93c5f9",
   "metadata": {},
   "outputs": [
    {
     "name": "stdout",
     "output_type": "stream",
     "text": [
      "The Number of Rows : 22\n"
     ]
    }
   ],
   "source": [
    "NumRows = file.shape[0]\n",
    "print('The Number of Rows : ' + str(NumRows))"
   ]
  },
  {
   "cell_type": "markdown",
   "id": "5355aa54-16cb-4984-89ac-a891d1459e5b",
   "metadata": {},
   "source": [
    "## c. The maximum Average discharge (m3/s) value"
   ]
  },
  {
   "cell_type": "code",
   "execution_count": 86,
   "id": "ac9fd402-8e32-4193-ab5d-b838212e3c82",
   "metadata": {},
   "outputs": [
    {
     "name": "stdout",
     "output_type": "stream",
     "text": [
      "Maximum Average Discharge :224000 m^3 / s\n"
     ]
    }
   ],
   "source": [
    "max_discharge = file['Average discharge (m3/s)'].max()\n",
    "print(\"Maximum Average Discharge :\" + str(max_discharge) + ' m^3 / s')"
   ]
  },
  {
   "cell_type": "markdown",
   "id": "d2dbd101-7d73-4287-ac07-816cfdf94f1d",
   "metadata": {},
   "source": [
    "## d. The minimum Drainage area (km2) value"
   ]
  },
  {
   "cell_type": "code",
   "execution_count": 87,
   "id": "e5126f03-8fc7-42f8-b02c-18adcd1ec5da",
   "metadata": {},
   "outputs": [
    {
     "name": "stdout",
     "output_type": "stream",
     "text": [
      "Minimum drainage area : 1120154 km^2\n"
     ]
    }
   ],
   "source": [
    "min_drainage = file['Drainage area (km2)'].min()\n",
    "print(\"Minimum drainage area : \" + str(min_drainage) + ' km^2')"
   ]
  },
  {
   "cell_type": "markdown",
   "id": "3247b43b-80f8-4bb6-9310-21b24dc1ccae",
   "metadata": {},
   "source": [
    "## e. The mean Length (km) value"
   ]
  },
  {
   "cell_type": "code",
   "execution_count": 88,
   "id": "59cf26c0-241d-4706-a33e-75c1e0021922",
   "metadata": {},
   "outputs": [
    {
     "name": "stdout",
     "output_type": "stream",
     "text": [
      "Average river length : 3917.2727272727275 km\n"
     ]
    }
   ],
   "source": [
    "Mean_Length = file['Length (km)'].mean()\n",
    "print(\"Average river length : \" + str(Mean_Length) + ' km')"
   ]
  },
  {
   "cell_type": "markdown",
   "id": "7be5a210-6446-49a7-9593-32b7ab92183d",
   "metadata": {},
   "source": [
    "# Question 2\n",
    "What is the name of the shortest river?\r\n",
    "\r\n",
    "How many of these rivers are located in North America?\r\n",
    "\r\n",
    "What is the mean and standard deviation of Average discharge (m3/s)?\r\n",
    "\r\n",
    "What are the names of the rivers that flow into the Atlantic Ocean?\r\n",
    "\r\n",
    "Which continent contains the most large rivers?"
   ]
  },
  {
   "cell_type": "markdown",
   "id": "2856f8f9-d187-44e0-abc1-5e555c1a1c4e",
   "metadata": {},
   "source": [
    "## a. What is the name of the shortest river?"
   ]
  },
  {
   "cell_type": "code",
   "execution_count": 89,
   "id": "9d6ffcf9-efa8-42c4-b6fb-4756160a2ccf",
   "metadata": {},
   "outputs": [
    {
     "name": "stdout",
     "output_type": "stream",
     "text": [
      "Name of the shortest river : Rio de la Plata with a lenght of 290 (km)\n"
     ]
    }
   ],
   "source": [
    "# Find the index where the value of 'Length (km)' is the minimum\n",
    "shortest_river_index = file['Length (km)'].idxmin()\n",
    "\n",
    "# What's the name of the River at the index where the minimum Length is\n",
    "shortest_river_name = file.loc[shortest_river_index, 'River']\n",
    "\n",
    "# Finding the length of the Shortest river\n",
    "Len_Short_River = file.loc[shortest_river_index, 'Length (km)']\n",
    "print(\"Name of the shortest river : \"+ str(shortest_river_name) + ' with a lenght of '+ str(Len_Short_River) + ' (km)')\n"
   ]
  },
  {
   "cell_type": "markdown",
   "id": "0b8b45bd-f39f-402d-adcd-7d4ac305d376",
   "metadata": {},
   "source": [
    "## b. How many of these rivers are located in North America?"
   ]
  },
  {
   "cell_type": "code",
   "execution_count": 90,
   "id": "a00b0e6e-7c4a-42e5-9754-445c1ea9851f",
   "metadata": {},
   "outputs": [
    {
     "name": "stdout",
     "output_type": "stream",
     "text": [
      "Number of rivers in North America: 4\n"
     ]
    }
   ],
   "source": [
    "# Make a dataframe that is the Continent Column where the cell is 'North America'\n",
    "NA_rivers = file[file['Continent'] == 'North America'] \n",
    "\n",
    "# How long is the array we created?\n",
    "num_NA_rivers = len(NA_rivers) \n",
    "\n",
    "print(\"Number of rivers in North America:\", num_NA_rivers)"
   ]
  },
  {
   "cell_type": "markdown",
   "id": "7c694522-10eb-47b2-ac76-b47466f9c22e",
   "metadata": {},
   "source": [
    "## c. What is the mean and standard deviation of Average discharge (m3/s)?"
   ]
  },
  {
   "cell_type": "code",
   "execution_count": 91,
   "id": "88c18094-4119-4d6a-aa36-177da909cc51",
   "metadata": {},
   "outputs": [
    {
     "name": "stdout",
     "output_type": "stream",
     "text": [
      "Mean River Discharge from All Rivers (m^3/s): 26424.5 and the Standard Deviation (m^3/s): 45741.92495559033\n"
     ]
    }
   ],
   "source": [
    "# Finding the mean and the standard deviation using the pandas package\n",
    "Mean_AvgDis = file['Average discharge (m3/s)'].mean()\n",
    "std_AvgDis = file['Average discharge (m3/s)'].std()\n",
    "print(\"Mean River Discharge from All Rivers (m^3/s): \" + str(Mean_AvgDis) + \" and the Standard Deviation (m^3/s): \" + str(std_AvgDis))"
   ]
  },
  {
   "cell_type": "markdown",
   "id": "fb1ff917-1349-49a3-8e3d-9a65c5090249",
   "metadata": {},
   "source": [
    "## d. What are the names of the rivers that flow into the Atlantic Ocean?"
   ]
  },
  {
   "cell_type": "code",
   "execution_count": 92,
   "id": "bdb4d05d-d3bc-4cdb-a6ca-4d0f36a0afa7",
   "metadata": {},
   "outputs": [
    {
     "name": "stdout",
     "output_type": "stream",
     "text": [
      "Rivers flowing out to the Atlantic Ocean : Amazon, Congo, Rio de la Plata\n"
     ]
    }
   ],
   "source": [
    "# Make a dataframe where the values within the Outflow Column is 'Atlantic Ocean'\n",
    "Atlantic_Out_rivers = file[file['Outflow'] == 'Atlantic Ocean']\n",
    "\n",
    "# Extract the names of rivers flowing into the Atlantic Ocean\n",
    "Name_At_Out_rivers = Atlantic_Out_rivers['River']\n",
    "\n",
    "# Convert the pandas Series to a comma-separated string\n",
    "river_names_str = ', '.join(Name_At_Out_rivers)\n",
    "\n",
    "print(\"Rivers flowing out to the Atlantic Ocean :\", river_names_str)\n"
   ]
  },
  {
   "cell_type": "markdown",
   "id": "9ee3266b-3437-411b-a1e3-1894a304f867",
   "metadata": {},
   "source": [
    "## e. Which continent contains the most large rivers?"
   ]
  },
  {
   "cell_type": "code",
   "execution_count": 93,
   "id": "52e21d10-b4ff-4460-acb9-e4a7727dbc99",
   "metadata": {},
   "outputs": [
    {
     "name": "stdout",
     "output_type": "stream",
     "text": [
      "Continents from Most to Least rivers :\n",
      "Continent\n",
      "Asia             8\n",
      "South America    5\n",
      "Africa           4\n",
      "North America    4\n",
      "Europe           1\n",
      "Name: count, dtype: int64\n"
     ]
    }
   ],
   "source": [
    "# Count the number of occurrences of each country\n",
    "country_counts = file['Continent'].value_counts()\n",
    "\n",
    "# Print the list in order from highest to lowest count\n",
    "print(\"Continents from Most to Least rivers :\")\n",
    "print(country_counts)\n"
   ]
  },
  {
   "cell_type": "markdown",
   "id": "f479d2ca-6353-4c28-9693-b5aef8a574d2",
   "metadata": {},
   "source": [
    "# Question 3\n",
    "\n",
    "Add a column called Primary that has value of 1 if the river Type is Primary River and 0 if the river is a Tributary River.\r\n",
    "\r\n",
    "Make a new DataFrame of just the Primary rivers.\r\n",
    "\r\n",
    "Write a for loop that prints the name of each river in this new DataFrame.\r\n",
    "\r\n",
    "Write another for loop that only prints the name of the river if it starts with the letter M.\r\n",
    "\r\n",
    "Modify the for loop so it saves the names of these rivers as a list."
   ]
  },
  {
   "cell_type": "markdown",
   "id": "b6680cd8-5436-4d18-be69-9aa04ef1ed2c",
   "metadata": {},
   "source": [
    "## a. Add a column called Primary that has value of 1 if the river Type is Primary River and 0 if the river is a Tributary River."
   ]
  },
  {
   "cell_type": "code",
   "execution_count": 94,
   "id": "32bce9c4-0a2a-470d-9c36-fb049d7b2cdd",
   "metadata": {},
   "outputs": [
    {
     "name": "stdout",
     "output_type": "stream",
     "text": [
      "              River      Continent  Average discharge (m3/s)  Length (km)  \\\n",
      "0            Amazon  South America                    224000         6992   \n",
      "1             Congo         Africa                     41400         4370   \n",
      "2              Nile         Africa                      2810         6853   \n",
      "3       Mississippi  North America                     21300         3766   \n",
      "4   Rio de la Plata  South America                     27225          290   \n",
      "5                Ob           Asia                     13100         4345   \n",
      "6            Parana  South America                     19706         4880   \n",
      "7           Yenisei           Asia                     20200         4090   \n",
      "8              Lena           Asia                     18300         4294   \n",
      "9             Niger         Africa                      7900         4200   \n",
      "10           Ganges           Asia                     43950         3969   \n",
      "11             Amur           Asia                     11526         4444   \n",
      "12          Yangtze           Asia                     31900         6300   \n",
      "13        Mackenzie  North America                      9800         4241   \n",
      "14           Irtysh           Asia                      2980         4248   \n",
      "15            Volga         Europe                      8220         3531   \n",
      "16          Madeira  South America                     30173         3380   \n",
      "17         Missouri  North America                      2445         3767   \n",
      "18   Saint Lawrence  North America                     16800          500   \n",
      "19          Zambezi         Africa                      4217         2574   \n",
      "20           Ganges           Asia                     18691         2525   \n",
      "21         Paraguay  South America                      4696         2621   \n",
      "\n",
      "    Drainage area (km2)                 Outflow             Type  Primary  \n",
      "0               6915000          Atlantic Ocean    Primary river        1  \n",
      "1               3822000          Atlantic Ocean    Primary river        1  \n",
      "2               3349000       Mediterranean Sea    Primary river        1  \n",
      "3               3248000          Gulf of Mexico    Primary river        1  \n",
      "4               3182064          Atlantic Ocean    Primary river        1  \n",
      "5               2990000              Gulf of Ob    Primary river        1  \n",
      "6               2582672         Rio de la Plata  Tributary river        0  \n",
      "7               2580000                Kara Sea    Primary river        1  \n",
      "8               2490000              Laptev Sea    Primary river        1  \n",
      "9               2117000          Gulf of Guinea    Primary river        1  \n",
      "10              1999000           Bay of Bengal    Primary river        1  \n",
      "11              1855000          Sea of Okhotsk    Primary river        1  \n",
      "12              1840000          East China Sea    Primary river        1  \n",
      "13              1805200            Beaufort Sea    Primary river        1  \n",
      "14              1673470                      Ob  Tributary river        0  \n",
      "15              1380000             Caspian Sea    Primary river        1  \n",
      "16              1376000                  Amazon  Tributary river        0  \n",
      "17              1371010             Mississippi  Tributary river        0  \n",
      "18              1344200  Gulf of Saint Lawrence    Primary river        1  \n",
      "19              1331000            Indian Ocean    Primary river        1  \n",
      "20              1300000           Bay of Bengal    Primary river        1  \n",
      "21              1120154                  Parana  Tributary river        0  \n"
     ]
    }
   ],
   "source": [
    "# Create a DataFrame to store the information\n",
    "ColumnNames = ['Primary']\n",
    "PrimeOrTributary = pd.DataFrame(0, index=np.arange(len(file)), columns=ColumnNames)\n",
    "\n",
    "\n",
    "# Check if 'Primary' column already exists in file DataFrame\n",
    "if 'Primary' not in file.columns:\n",
    "    # Loop through each row in the file DataFrame\n",
    "    for index, row in file.iterrows():\n",
    "        # Check if the river is a primary river\n",
    "        if row['Type'] == 'Primary river':\n",
    "            # If it is, set the value to 1 in the PrimeOrTributary DataFrame\n",
    "            PrimeOrTributary.loc[index, 'Primary'] = 1\n",
    "        else:\n",
    "            # Otherwise, set the value to 0\n",
    "            PrimeOrTributary.loc[index, 'Primary'] = 0\n",
    "\n",
    "    # Concatenate the file DataFrame with the PrimeOrTributary DataFrame\n",
    "    file = pd.concat([file, PrimeOrTributary], axis=1)\n",
    "\n",
    "# Print the updated DataFrame to verify the result\n",
    "print(file)"
   ]
  },
  {
   "cell_type": "markdown",
   "id": "e34ad678-4730-4e17-80a3-31903516a0b7",
   "metadata": {},
   "source": [
    "## b. Make a new DataFrame of just the Primary rivers."
   ]
  },
  {
   "cell_type": "code",
   "execution_count": 99,
   "id": "22dd38d2-20ce-456c-ba7a-fbc47f81d6c1",
   "metadata": {},
   "outputs": [
    {
     "name": "stdout",
     "output_type": "stream",
     "text": [
      "              River      Continent  Average discharge (m3/s)  Length (km)  \\\n",
      "0            Amazon  South America                    224000         6992   \n",
      "1             Congo         Africa                     41400         4370   \n",
      "2              Nile         Africa                      2810         6853   \n",
      "3       Mississippi  North America                     21300         3766   \n",
      "4   Rio de la Plata  South America                     27225          290   \n",
      "5                Ob           Asia                     13100         4345   \n",
      "6           Yenisei           Asia                     20200         4090   \n",
      "7              Lena           Asia                     18300         4294   \n",
      "8             Niger         Africa                      7900         4200   \n",
      "9            Ganges           Asia                     43950         3969   \n",
      "10             Amur           Asia                     11526         4444   \n",
      "11          Yangtze           Asia                     31900         6300   \n",
      "12        Mackenzie  North America                      9800         4241   \n",
      "13            Volga         Europe                      8220         3531   \n",
      "14   Saint Lawrence  North America                     16800          500   \n",
      "15          Zambezi         Africa                      4217         2574   \n",
      "16           Ganges           Asia                     18691         2525   \n",
      "\n",
      "    Drainage area (km2)                 Outflow           Type  Primary  \n",
      "0               6915000          Atlantic Ocean  Primary river        1  \n",
      "1               3822000          Atlantic Ocean  Primary river        1  \n",
      "2               3349000       Mediterranean Sea  Primary river        1  \n",
      "3               3248000          Gulf of Mexico  Primary river        1  \n",
      "4               3182064          Atlantic Ocean  Primary river        1  \n",
      "5               2990000              Gulf of Ob  Primary river        1  \n",
      "6               2580000                Kara Sea  Primary river        1  \n",
      "7               2490000              Laptev Sea  Primary river        1  \n",
      "8               2117000          Gulf of Guinea  Primary river        1  \n",
      "9               1999000           Bay of Bengal  Primary river        1  \n",
      "10              1855000          Sea of Okhotsk  Primary river        1  \n",
      "11              1840000          East China Sea  Primary river        1  \n",
      "12              1805200            Beaufort Sea  Primary river        1  \n",
      "13              1380000             Caspian Sea  Primary river        1  \n",
      "14              1344200  Gulf of Saint Lawrence  Primary river        1  \n",
      "15              1331000            Indian Ocean  Primary river        1  \n",
      "16              1300000           Bay of Bengal  Primary river        1  \n"
     ]
    }
   ],
   "source": [
    "# Make a dataframe where the values within the 'Type' Column is 'Primary'\n",
    "PrimaryRiverDF = file[file['Type'] == 'Primary river'].reset_index(drop=True) # we also want to re-index this df\n",
    "print(PrimaryRiverDF)"
   ]
  },
  {
   "cell_type": "markdown",
   "id": "697fd339-b304-4abc-9d16-be5150ba3bec",
   "metadata": {},
   "source": [
    "## c. Write a for loop that prints the name of each river in this new DataFrame."
   ]
  },
  {
   "cell_type": "code",
   "execution_count": 96,
   "id": "42cba320-1394-43f5-83dc-9ce485981097",
   "metadata": {},
   "outputs": [
    {
     "name": "stdout",
     "output_type": "stream",
     "text": [
      "Amazon\n",
      "Congo\n",
      "Nile\n",
      "Mississippi\n",
      "Rio de la Plata\n",
      "Ob\n",
      "Yenisei\n",
      "Lena\n",
      "Niger\n",
      "Ganges\n",
      "Amur\n",
      "Yangtze\n",
      "Mackenzie\n",
      "Volga\n",
      "Saint Lawrence\n",
      "Zambezi\n",
      "Ganges\n"
     ]
    }
   ],
   "source": [
    "# for loop, iterates through each row in the new dataframe 'PrimaryRiverDF'\n",
    "for index, row in PrimaryRiverDF.iterrows():\n",
    "    print(row['River']) # Look at the Rows under the 'River' header and print them"
   ]
  },
  {
   "cell_type": "markdown",
   "id": "a58f1af7-65ff-4ba2-b3e2-7d7f3073f5c3",
   "metadata": {},
   "source": [
    "## d. Write another for loop that only prints the name of the river if it starts with the letter M."
   ]
  },
  {
   "cell_type": "code",
   "execution_count": 97,
   "id": "e6891974-5a67-476e-bb28-5ed75d190804",
   "metadata": {},
   "outputs": [
    {
     "name": "stdout",
     "output_type": "stream",
     "text": [
      "Mississippi\n",
      "Mackenzie\n"
     ]
    }
   ],
   "source": [
    "for index, row in PrimaryRiverDF.iterrows():\n",
    "    if row['River'].startswith('M'):\n",
    "        print(row['River'])"
   ]
  },
  {
   "cell_type": "markdown",
   "id": "381120a1-be3c-41a9-8c26-97f3b9c19b11",
   "metadata": {},
   "source": [
    "## e. Modify the for loop so it saves the names of these rivers as a list."
   ]
  },
  {
   "cell_type": "code",
   "execution_count": 98,
   "id": "ff6d2b58-efa3-40f1-87cb-83aea7bf3bcb",
   "metadata": {},
   "outputs": [
    {
     "name": "stdout",
     "output_type": "stream",
     "text": [
      "['Mississippi', 'Mackenzie']\n"
     ]
    }
   ],
   "source": [
    "M_rivers = [] # Create an empty list\n",
    "\n",
    "for index, row in PrimaryRiverDF.iterrows(): # index each row within 'PrimaryRiverDF' and iterate through those\n",
    "    if row['River'].startswith('M'): # If name of variable at index of row, under 'River' , starts with 'M'\n",
    "        M_rivers.append(row['River']) # Append the variable at that index from 'row['River']' to the empty 'M_rivers' list\n",
    "\n",
    "print(M_rivers)"
   ]
  }
 ],
 "metadata": {
  "kernelspec": {
   "display_name": "Python 3 (ipykernel)",
   "language": "python",
   "name": "python3"
  },
  "language_info": {
   "codemirror_mode": {
    "name": "ipython",
    "version": 3
   },
   "file_extension": ".py",
   "mimetype": "text/x-python",
   "name": "python",
   "nbconvert_exporter": "python",
   "pygments_lexer": "ipython3",
   "version": "3.12.2"
  }
 },
 "nbformat": 4,
 "nbformat_minor": 5
}
