{
 "cells": [
  {
   "cell_type": "markdown",
   "id": "cfb66313-1437-483e-905e-842144044b1e",
   "metadata": {},
   "source": [
    "# Assignment 8\n",
    "## Jett R\n",
    "## 6/21/2024"
   ]
  },
  {
   "cell_type": "code",
   "execution_count": 1,
   "id": "15192766-ea55-4d00-b164-b7d2ad834295",
   "metadata": {},
   "outputs": [],
   "source": [
    "import rioxarray as rxr\n",
    "\n",
    "import os\n",
    "\n",
    "import matplotlib.pyplot as plt\n",
    "import numpy as np"
   ]
  },
  {
   "cell_type": "markdown",
   "id": "2385e58a-afa9-4a2e-bfb1-645afa59548f",
   "metadata": {},
   "source": [
    "## task 1\n",
    "### Get a list of the files within your directory\n",
    "### How many files are there?\n"
   ]
  },
  {
   "cell_type": "code",
   "execution_count": 2,
   "id": "35aae9bc-6180-48b1-ba64-f858ee715275",
   "metadata": {},
   "outputs": [
    {
     "name": "stdout",
     "output_type": "stream",
     "text": [
      "Files and directories in the current working directory:\n",
      "['.ipynb_checkpoints', '2023-07-01_strip_6617511_composite.tif', '2023-07-13_strip_6645417_composite.tif', '2023-07-21_strip_6662640_composite.tif', '2023-07-23_strip_6666204_composite.tif', '2023-07-24_strip_6668570_composite.tif', '2023-07-25_strip_6671915_composite.tif', '2023-08-01_strip_6686241_composite.tif', '2023-08-02_strip_6688457_composite.tif', '2023-09-19_strip_6783959_composite.tif', '2023-09-24_strip_6794068_composite.tif', '2023-09-25_strip_6796101_composite.tif', '2023-09-27_strip_6800632_composite.tif', '2023-09-28_strip_6802572_composite.tif', '2023-10-03_strip_6819793_composite.tif', '2023-10-04_strip_6815723_composite.tif', '2023-10-09_strip_6825789_composite.tif', '2023-10-18_strip_6843597_composite.tif', 'Assignment8.ipynb']\n"
     ]
    }
   ],
   "source": [
    "# set your working directory and print the files\n",
    "working_directory = 'C:/Users/jettr/Dropbox (University of Oregon)/23-24/Spring/Geog 490/Assignments/Assignment 8/'\n",
    "\n",
    "os.chdir(working_directory)\n",
    "\n",
    "current_working_directory = os.getcwd()\n",
    "\n",
    "files_in_directory = os.listdir(current_working_directory)\n",
    "\n",
    "print(\"Files and directories in the current working directory:\")\n",
    "\n",
    "list_files = sorted(files_in_directory)\n",
    "\n",
    "print(list_files)"
   ]
  },
  {
   "cell_type": "code",
   "execution_count": 3,
   "id": "0b9ec071-1bd8-4d2b-8422-3a523e58a970",
   "metadata": {},
   "outputs": [
    {
     "name": "stdout",
     "output_type": "stream",
     "text": [
      "17\n"
     ]
    }
   ],
   "source": [
    "# How many tif files are there\n",
    "length_files = 0\n",
    "\n",
    "for string in list_files:\n",
    "    if '.tif' in string:\n",
    "        length_files = length_files + 1\n",
    "print(length_files)"
   ]
  },
  {
   "cell_type": "markdown",
   "id": "fc3c2458-9ee0-4af8-a2a4-e6d72348eba7",
   "metadata": {},
   "source": [
    "## Task 2 \n",
    "\n",
    "### Open file 2023-07-01_strip_6617511_composite.tif \n",
    "\n",
    "### Get the crs\n",
    "\n",
    "### Reproject to UTM Zone 5N"
   ]
  },
  {
   "cell_type": "code",
   "execution_count": 4,
   "id": "7f868b74-2824-4de6-91fe-f1dfbae237ca",
   "metadata": {},
   "outputs": [],
   "source": [
    "file_path='2023-07-01_strip_6617511_composite.tif'\n",
    "file = rxr.open_rasterio(file_path)"
   ]
  },
  {
   "cell_type": "code",
   "execution_count": 5,
   "id": "0a6b5456-ed23-4672-8ee2-e206e2de21d6",
   "metadata": {},
   "outputs": [
    {
     "name": "stdout",
     "output_type": "stream",
     "text": [
      "EPSG:4326\n"
     ]
    }
   ],
   "source": [
    "crs = file.rio.crs\n",
    "print(crs)"
   ]
  },
  {
   "cell_type": "code",
   "execution_count": 6,
   "id": "223f05c1-3fe2-4534-a019-54f14091d1f2",
   "metadata": {},
   "outputs": [],
   "source": [
    "# The EPSG code for UTM Zone 5N is 32605. The dataset can be reprojected using .rio.reproject()."
   ]
  },
  {
   "cell_type": "code",
   "execution_count": 7,
   "id": "c10ac0e8-8315-43b0-acf3-7a189adbb034",
   "metadata": {
    "scrolled": true
   },
   "outputs": [],
   "source": [
    "Target_Crs = 'EPSG:32605'\n",
    "\n",
    "reproj_file = file.rio.reproject(Target_Crs)\n"
   ]
  },
  {
   "cell_type": "code",
   "execution_count": 8,
   "id": "6ef26b23-f1cb-4d37-bce7-b073b67b745c",
   "metadata": {},
   "outputs": [
    {
     "name": "stdout",
     "output_type": "stream",
     "text": [
      "EPSG:32605\n"
     ]
    }
   ],
   "source": [
    "print(reproj_file.rio.crs)"
   ]
  },
  {
   "cell_type": "markdown",
   "id": "1440e069-90e1-4f04-8be8-9f24bdf4d08b",
   "metadata": {},
   "source": [
    "## Task 3\n",
    "\n",
    "### Match the extent (and projection) of the second satellite image in your list (i.e. 2023-07-13_strip_6645417_composite.tif) with the First satellite image in your list (2023-07-01_strip_6617511_composite.tif)\n",
    "\n",
    "### Print the number of rows and columns of both satellite images (to confirm they are all the same)"
   ]
  },
  {
   "cell_type": "code",
   "execution_count": 9,
   "id": "5caeff2d-9c54-47e0-a1ed-75f4694436e9",
   "metadata": {},
   "outputs": [],
   "source": [
    "def print_raster(raster):\n",
    "    print(\n",
    "        f\"shape: {raster.rio.shape}\\n\"\n",
    "        f\"resolution: {raster.rio.resolution()}\\n\"\n",
    "        f\"bounds: {raster.rio.bounds()}\\n\"\n",
    "        f\"sum: {raster.sum().item()}\\n\"\n",
    "        f\"CRS: {raster.rio.crs}\\n\"\n",
    "    )"
   ]
  },
  {
   "cell_type": "code",
   "execution_count": 10,
   "id": "b5d96b88-2aea-46d9-b5c7-44b416c30af0",
   "metadata": {},
   "outputs": [],
   "source": [
    "sec_im = rxr.open_rasterio('2023-07-13_strip_6645417_composite.tif')\n",
    "First_Image = rxr.open_rasterio('2023-07-01_strip_6617511_composite.tif')\n",
    "\n",
    "\n",
    "# Match the second image to the First image"
   ]
  },
  {
   "cell_type": "code",
   "execution_count": 11,
   "id": "85abaf32-ed22-4566-8e71-66fc650cb6c1",
   "metadata": {},
   "outputs": [
    {
     "name": "stdout",
     "output_type": "stream",
     "text": [
      "shape: (3562, 7041)\n",
      "resolution: (4.269762954027004e-05, -4.269762954026769e-05)\n",
      "bounds: (-150.74529304852203, 62.26446945323103, -150.44465903892896, 62.41655840965346)\n",
      "sum: 3420800434\n",
      "CRS: EPSG:4326\n",
      "\n",
      "shape: (3562, 7041)\n",
      "resolution: (4.269762954027004e-05, -4.269762954026769e-05)\n",
      "bounds: (-150.74529304852203, 62.26446945323103, -150.44465903892896, 62.41655840965346)\n",
      "sum: 3113821131\n",
      "CRS: EPSG:4326\n",
      "\n"
     ]
    }
   ],
   "source": [
    "print_raster(sec_im)\n",
    "print_raster(First_Image)\n",
    "# Already look pretty similar"
   ]
  },
  {
   "cell_type": "code",
   "execution_count": 12,
   "id": "acc1e54c-864e-4829-99a6-85fdb23bb628",
   "metadata": {},
   "outputs": [],
   "source": [
    "sec_im_repoj_match = sec_im.rio.reproject_match(First_Image)"
   ]
  },
  {
   "cell_type": "code",
   "execution_count": 13,
   "id": "1b62ff06-6ddb-4a47-87fa-3bfcc21b5e7c",
   "metadata": {},
   "outputs": [
    {
     "name": "stdout",
     "output_type": "stream",
     "text": [
      "shape: (3562, 7041)\n",
      "resolution: (4.269762954027004e-05, -4.269762954026769e-05)\n",
      "bounds: (-150.74529304852203, 62.26446945323103, -150.44465903892896, 62.41655840965346)\n",
      "sum: 3420800434\n",
      "CRS: EPSG:4326\n",
      "\n"
     ]
    }
   ],
   "source": [
    "print_raster(sec_im_repoj_match)"
   ]
  },
  {
   "cell_type": "code",
   "execution_count": 14,
   "id": "3c395dc5-c507-4de2-be9a-178892fa3126",
   "metadata": {},
   "outputs": [
    {
     "name": "stdout",
     "output_type": "stream",
     "text": [
      "(4, 3562, 7041)\n",
      "(4, 3562, 7041)\n"
     ]
    }
   ],
   "source": [
    "print(First_Image.shape)\n",
    "print(sec_im_repoj_match.shape)\n",
    "\n",
    "# (Bands/time , Rows, Cols)"
   ]
  },
  {
   "cell_type": "markdown",
   "id": "b1dd32e8-91af-404e-9ba8-3d2c737ad496",
   "metadata": {},
   "source": [
    "## Task 4\n",
    "\n",
    "### Classify the first satellite image , First_Image = rxr.open_rasterio('2023-07-01_strip_6617511_composite.tif'),  into three categories (i.e. null vs. water vs. non-water) using a threshold of 500 in the NIR band (i.e. band 4). Null values should be == 0, water pixels should have a value of <500 (but larger than 0) and non-water pixels should be >500.\n",
    "\n",
    "### Calculate the total water cover fraction\n",
    "\n",
    "### Write a loop to calculate the fraction of all files\n",
    "\n",
    "### Plot the water Fractionion."
   ]
  },
  {
   "cell_type": "code",
   "execution_count": 15,
   "id": "99f16c30-194e-45d0-a0bc-ac8761dc5405",
   "metadata": {},
   "outputs": [],
   "source": [
    "First_im_NIR = First_Image.isel(band=3) # Index the fourth band"
   ]
  },
  {
   "cell_type": "code",
   "execution_count": 16,
   "id": "064d04a0-7bf7-40b6-88ed-32438433103b",
   "metadata": {},
   "outputs": [
    {
     "name": "stdout",
     "output_type": "stream",
     "text": [
      "shape: (3562, 7041)\n",
      "resolution: (4.269762954027004e-05, -4.269762954026769e-05)\n",
      "bounds: (-150.74529304852203, 62.26446945323103, -150.44465903892896, 62.41655840965346)\n",
      "sum: 936347685\n",
      "CRS: EPSG:4326\n",
      "\n"
     ]
    }
   ],
   "source": [
    "print_raster(First_im_NIR)"
   ]
  },
  {
   "cell_type": "code",
   "execution_count": 17,
   "id": "28cf5006-dc12-46f3-a41e-e0b7b9a1ce0c",
   "metadata": {},
   "outputs": [],
   "source": [
    "# We are going to make an empty array, the same size and shape as the First_Image_NIR band. First Fill it with zeros, which is our null values\n",
    "# Then, wherever we find our classified values, 0 to 500 for water, we add a value of 1 to represent water in thew new empty array. So we will\n",
    "# have an array containing 3 values, 0,1,2 , to represent null, water and non-water\n",
    "\n",
    "Classified_array = np.zeros(First_im_NIR.shape , dtype=np.uint8)\n",
    "\n",
    "Classified_array[(First_im_NIR > 0) & (First_im_NIR < 500)] = 1\n",
    "\n",
    "Classified_array[(First_im_NIR >= 500)] = 2\n"
   ]
  },
  {
   "cell_type": "code",
   "execution_count": 18,
   "id": "8adbbfd3-eb99-441e-8399-07e1c0b7d854",
   "metadata": {},
   "outputs": [
    {
     "name": "stdout",
     "output_type": "stream",
     "text": [
      "[[0 0 0 ... 0 0 0]\n",
      " [0 0 0 ... 0 0 0]\n",
      " [0 0 0 ... 0 0 0]\n",
      " ...\n",
      " [0 0 0 ... 0 0 0]\n",
      " [0 0 0 ... 0 0 0]\n",
      " [0 0 0 ... 0 0 0]]\n"
     ]
    }
   ],
   "source": [
    "print(Classified_array)"
   ]
  },
  {
   "cell_type": "code",
   "execution_count": 19,
   "id": "8e750385-39d7-447f-8d37-fc0e0f107c65",
   "metadata": {},
   "outputs": [
    {
     "name": "stdout",
     "output_type": "stream",
     "text": [
      "Fraction of water cover: 0.17%\n"
     ]
    }
   ],
   "source": [
    "# Calculate the fraction of water pixels of the total Non-null values\n",
    "water_pixels = np.sum(Classified_array == 1)\n",
    "non_water_pixels = np.sum(Classified_array == 2)\n",
    "\n",
    "total_pixels = water_pixels + non_water_pixels\n",
    "\n",
    "fraction_water_cover = (water_pixels / total_pixels) * 100\n",
    "\n",
    "print(f\"Fraction of water cover: {fraction_water_cover:.2f}%\")"
   ]
  },
  {
   "cell_type": "code",
   "execution_count": 20,
   "id": "e0a76838-a779-4e4e-9468-264b4dd13e37",
   "metadata": {},
   "outputs": [
    {
     "name": "stdout",
     "output_type": "stream",
     "text": [
      "File: 2023-07-01_strip_6617511_composite.tif, Fraction of water cover: 0.17%\n",
      "File: 2023-07-13_strip_6645417_composite.tif, Fraction of water cover: 0.00%\n",
      "File: 2023-07-21_strip_6662640_composite.tif, Fraction of water cover: 0.15%\n",
      "File: 2023-07-23_strip_6666204_composite.tif, Fraction of water cover: 0.00%\n",
      "File: 2023-07-24_strip_6668570_composite.tif, Fraction of water cover: 0.00%\n",
      "File: 2023-07-25_strip_6671915_composite.tif, Fraction of water cover: 0.00%\n",
      "File: 2023-08-01_strip_6686241_composite.tif, Fraction of water cover: 0.03%\n",
      "File: 2023-08-02_strip_6688457_composite.tif, Fraction of water cover: 0.16%\n",
      "File: 2023-09-19_strip_6783959_composite.tif, Fraction of water cover: 0.19%\n",
      "File: 2023-09-24_strip_6794068_composite.tif, Fraction of water cover: 0.57%\n",
      "File: 2023-09-25_strip_6796101_composite.tif, Fraction of water cover: 0.48%\n",
      "File: 2023-09-27_strip_6800632_composite.tif, Fraction of water cover: 0.36%\n",
      "File: 2023-09-28_strip_6802572_composite.tif, Fraction of water cover: 0.36%\n",
      "File: 2023-10-03_strip_6819793_composite.tif, Fraction of water cover: 0.87%\n",
      "File: 2023-10-04_strip_6815723_composite.tif, Fraction of water cover: 1.05%\n",
      "File: 2023-10-09_strip_6825789_composite.tif, Fraction of water cover: 1.17%\n",
      "File: 2023-10-18_strip_6843597_composite.tif, Fraction of water cover: 2.25%\n"
     ]
    }
   ],
   "source": [
    "# Create a for loop to do this for all files \n",
    "\n",
    "file_names = []\n",
    "water_fractions = []\n",
    "\n",
    "for file in files_in_directory:\n",
    "    if file.endswith('.tif'):\n",
    "        \n",
    "        file_data = rxr.open_rasterio(file)\n",
    "        \n",
    "        # Index the fourth band\n",
    "        file_NIR = file_data.isel(band=3) \n",
    "\n",
    "        # Classified Array\n",
    "        Classified_array = np.zeros(file_NIR.shape , dtype=np.uint8)\n",
    "\n",
    "        Classified_array[(file_NIR > 0) & (file_NIR < 500)] = 1\n",
    "        \n",
    "        Classified_array[(file_NIR >= 500)] = 2\n",
    "\n",
    "        # Calculate the fraction of water pixels of the total Non-null values\n",
    "        water_pixels = np.sum(Classified_array == 1)\n",
    "        non_water_pixels = np.sum(Classified_array == 2)\n",
    "        \n",
    "        total_pixels = water_pixels + non_water_pixels\n",
    "        \n",
    "        fraction_water_cover = (water_pixels / total_pixels) * 100\n",
    "\n",
    "        # Append filename and water fraction to the lists\n",
    "        file_names.append(file)\n",
    "        water_fractions.append(fraction_water_cover)\n",
    "        # We will use these to plot\n",
    "        \n",
    "        print(f\"File: {file}, Fraction of water cover: {fraction_water_cover:.2f}%\")"
   ]
  },
  {
   "cell_type": "code",
   "execution_count": 21,
   "id": "78a321a4-e07e-45cc-a172-2d982a5a90cf",
   "metadata": {},
   "outputs": [
    {
     "data": {
      "image/png": "[encoded data removed]",
      "text/plain": [
       "<Figure size 1000x600 with 1 Axes>"
      ]
     },
     "metadata": {},
     "output_type": "display_data"
    }
   ],
   "source": [
    "plt.figure(figsize=(10, 6))\n",
    "plt.bar(file_names, water_fractions, color='blue')\n",
    "plt.xlabel('File Name')\n",
    "plt.ylabel('Water Fraction (%)')\n",
    "plt.title('Water Fraction in Each File')\n",
    "plt.xticks(rotation=45, ha='right')\n",
    "plt.tight_layout()\n",
    "plt.show()"
   ]
  }
 ],
 "metadata": {
  "kernelspec": {
   "display_name": "Python 3 (ipykernel)",
   "language": "python",
   "name": "python3"
  },
  "language_info": {
   "codemirror_mode": {
    "name": "ipython",
    "version": 3
   },
   "file_extension": ".py",
   "mimetype": "text/x-python",
   "name": "python",
   "nbconvert_exporter": "python",
   "pygments_lexer": "ipython3",
   "version": "3.12.2"
  }
 },
 "nbformat": 4,
 "nbformat_minor": 5
}
